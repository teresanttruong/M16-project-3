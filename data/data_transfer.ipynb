{
 "cells": [
  {
   "cell_type": "code",
   "execution_count": 3,
   "metadata": {},
   "outputs": [],
   "source": [
    "import sqlite3\n",
    "import csv\n",
    "\n",
    "# Connect to the SQLite database (this will create a new SQLite file if it doesn't exist)\n",
    "conn = sqlite3.connect('restaurants.sqlite')\n",
    "cursor = conn.cursor()\n",
    "\n",
    "# Open the CSV file and insert data\n",
    "with open('Datafiniti_Fast_Food_Restaurants_May19.csv', 'r', encoding='utf-8') as csv_file:\n",
    "    csv_reader = csv.reader(csv_file)\n",
    "    \n",
    "    # Skip the header row if your CSV has one\n",
    "    next(csv_reader)\n",
    "    \n",
    "    # Insert rows from the CSV into the database\n",
    "    for row in csv_reader:\n",
    "        cursor.execute('''\n",
    "        INSERT INTO restaurants (id, dataAdded, dateUpdated, address, categories, primaryCategories, city, country, keys, latitude, longitude, name, postalCode, province, sourceURLs, websites)\n",
    "        VALUES (?, ?, ?, ?, ?, ?, ?, ?, ?, ?, ?, ?, ?, ?, ?, ?)\n",
    "        ''', row)\n",
    "\n",
    "# Commit the changes and close the connection\n",
    "conn.commit()\n",
    "conn.close()"
   ]
  }
 ],
 "metadata": {
  "kernelspec": {
   "display_name": "base",
   "language": "python",
   "name": "python3"
  },
  "language_info": {
   "codemirror_mode": {
    "name": "ipython",
    "version": 3
   },
   "file_extension": ".py",
   "mimetype": "text/x-python",
   "name": "python",
   "nbconvert_exporter": "python",
   "pygments_lexer": "ipython3",
   "version": "3.9.13"
  },
  "orig_nbformat": 4
 },
 "nbformat": 4,
 "nbformat_minor": 2
}
